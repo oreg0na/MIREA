{
 "cells": [
  {
   "cell_type": "code",
   "execution_count": 1,
   "metadata": {},
   "outputs": [
    {
     "name": "stdout",
     "output_type": "stream",
     "text": [
      "[[0 1 0 1 0 1 0 1]\n",
      " [1 0 1 0 1 0 1 0]\n",
      " [0 1 0 1 0 1 0 1]\n",
      " [1 0 1 0 1 0 1 0]\n",
      " [0 1 0 1 0 1 0 1]\n",
      " [1 0 1 0 1 0 1 0]\n",
      " [0 1 0 1 0 1 0 1]\n",
      " [1 0 1 0 1 0 1 0]]\n"
     ]
    }
   ],
   "source": [
    "# 1.3.1\n",
    "\n",
    "import numpy as np\n",
    "\n",
    "matrix = np.zeros((8, 8), dtype=int)\n",
    "for i in range(8):\n",
    "    for j in range(8):\n",
    "        matrix[i, j] = (i + j) % 2\n",
    "print(matrix)"
   ]
  },
  {
   "cell_type": "code",
   "execution_count": 2,
   "metadata": {},
   "outputs": [
    {
     "name": "stdout",
     "output_type": "stream",
     "text": [
      "[[0 1 2 3 4]\n",
      " [0 1 2 3 4]\n",
      " [0 1 2 3 4]\n",
      " [0 1 2 3 4]\n",
      " [0 1 2 3 4]]\n"
     ]
    }
   ],
   "source": [
    "# 1.3.2\n",
    "\n",
    "import numpy as np\n",
    "\n",
    "matrix = np.array([np.arange(5) for _ in range(5)])\n",
    "print(matrix)"
   ]
  },
  {
   "cell_type": "code",
   "execution_count": 3,
   "metadata": {},
   "outputs": [
    {
     "name": "stdout",
     "output_type": "stream",
     "text": [
      "[[[0.75418353 0.91129392 0.16598124]\n",
      "  [0.43500861 0.4474768  0.53027621]\n",
      "  [0.09854036 0.26986231 0.89527559]]\n",
      "\n",
      " [[0.10511403 0.94030254 0.43305695]\n",
      "  [0.99517306 0.41605061 0.89727255]\n",
      "  [0.25592521 0.83452278 0.40209597]]\n",
      "\n",
      " [[0.70013316 0.42267347 0.60600672]\n",
      "  [0.74789373 0.60834877 0.90197865]\n",
      "  [0.19088231 0.27134051 0.61903628]]]\n"
     ]
    }
   ],
   "source": [
    "# 1.3.3\n",
    "\n",
    "import numpy as np\n",
    "\n",
    "array = np.random.random((3, 3, 3))\n",
    "print(array)"
   ]
  },
  {
   "cell_type": "code",
   "execution_count": 4,
   "metadata": {},
   "outputs": [
    {
     "name": "stdout",
     "output_type": "stream",
     "text": [
      "[[1 1 1 1 1]\n",
      " [1 0 0 0 1]\n",
      " [1 0 0 0 1]\n",
      " [1 0 0 0 1]\n",
      " [1 1 1 1 1]]\n"
     ]
    }
   ],
   "source": [
    "# 1.3.4\n",
    "\n",
    "import numpy as np\n",
    "\n",
    "matrix = np.zeros((5, 5), dtype=int)\n",
    "\n",
    "matrix[0, :] = 1\n",
    "matrix[-1, :] = 1\n",
    "matrix[:, 0] = 1\n",
    "matrix[:, -1] = 1\n",
    "\n",
    "# Выводим матрицу\n",
    "print(matrix)\n"
   ]
  },
  {
   "cell_type": "code",
   "execution_count": 5,
   "metadata": {},
   "outputs": [
    {
     "name": "stdout",
     "output_type": "stream",
     "text": [
      "Исходный массив: [91 12 42 70 52 42 30 71  5 84]\n",
      "Отсортированный массив по убыванию: [91 84 71 70 52 42 42 30 12  5]\n"
     ]
    }
   ],
   "source": [
    "# 1.3.5\n",
    "\n",
    "import numpy as np\n",
    "\n",
    "array = np.random.randint(0, 100, size=10)\n",
    "\n",
    "sorted_array = np.sort(array)[::-1]\n",
    "\n",
    "print(\"Исходный массив:\", array)\n",
    "print(\"Отсортированный массив по убыванию:\", sorted_array)\n"
   ]
  },
  {
   "cell_type": "code",
   "execution_count": 6,
   "metadata": {},
   "outputs": [
    {
     "name": "stdout",
     "output_type": "stream",
     "text": [
      "Матрица:\n",
      " [[2 4 1 5]\n",
      " [8 3 1 9]\n",
      " [4 5 6 3]]\n",
      "Форма матрицы: (3, 4)\n",
      "Размер матрицы: 12\n",
      "Размерность матрицы: 2\n"
     ]
    }
   ],
   "source": [
    "# 1.3.6\n",
    "\n",
    "import numpy as np\n",
    "\n",
    "matrix = np.random.randint(0, 10, (3, 4))\n",
    "print(\"Матрица:\\n\", matrix)\n",
    "print(\"Форма матрицы:\", matrix.shape)\n",
    "print(\"Размер матрицы:\", matrix.size)\n",
    "print(\"Размерность матрицы:\", matrix.ndim)"
   ]
  },
  {
   "cell_type": "code",
   "execution_count": 7,
   "metadata": {},
   "outputs": [
    {
     "name": "stdout",
     "output_type": "stream",
     "text": [
      "Евклидово расстояние между точками a и b: 5.196152422706632\n"
     ]
    }
   ],
   "source": [
    "# 2.3.1\n",
    "import numpy as np\n",
    "import pandas as pd\n",
    "\n",
    "a = pd.Series([1, 2, 3])\n",
    "b = pd.Series([4, 5, 6])\n",
    "\n",
    "distance = np.sqrt(np.sum((a - b)**2))\n",
    "print(f\"Евклидово расстояние между точками a и b: {distance}\")"
   ]
  },
  {
   "cell_type": "code",
   "execution_count": 8,
   "metadata": {},
   "outputs": [
    {
     "name": "stdout",
     "output_type": "stream",
     "text": [
      "   sepal_length_cm  sepal_width_cm  petal_length_cm  petal_width_cm species\n",
      "0              5.1             3.5              1.4             0.2  setosa\n",
      "1              4.9             3.0              1.4             0.2  setosa\n",
      "2              4.7             3.2              1.3             0.2  setosa\n",
      "3              4.6             3.1              1.5             0.2  setosa\n",
      "4              5.0             3.6              1.4             0.2  setosa\n"
     ]
    }
   ],
   "source": [
    "# 2.3.2\n",
    "import pandas as pd\n",
    "\n",
    "url = 'https://raw.githubusercontent.com/akmand/datasets/master/iris.csv'\n",
    "df = pd.read_csv(url)\n",
    "\n",
    "print(df.head())"
   ]
  },
  {
   "cell_type": "code",
   "execution_count": 9,
   "metadata": {},
   "outputs": [
    {
     "name": "stdout",
     "output_type": "stream",
     "text": [
      "Первые 5 строк:\n",
      "   sepal_length_cm  sepal_width_cm  petal_length_cm  petal_width_cm species\n",
      "0              5.1             3.5              1.4             0.2  setosa\n",
      "1              4.9             3.0              1.4             0.2  setosa\n",
      "2              4.7             3.2              1.3             0.2  setosa\n",
      "3              4.6             3.1              1.5             0.2  setosa\n",
      "4              5.0             3.6              1.4             0.2  setosa\n",
      "\n",
      "Последние 5 строк:\n",
      "     sepal_length_cm  sepal_width_cm  petal_length_cm  petal_width_cm  \\\n",
      "145              6.7             3.0              5.2             2.3   \n",
      "146              6.3             2.5              5.0             1.9   \n",
      "147              6.5             3.0              5.2             2.0   \n",
      "148              6.2             3.4              5.4             2.3   \n",
      "149              5.9             3.0              5.1             1.8   \n",
      "\n",
      "       species  \n",
      "145  virginica  \n",
      "146  virginica  \n",
      "147  virginica  \n",
      "148  virginica  \n",
      "149  virginica  \n",
      "\n",
      "Форма DataFrame (строки, столбцы): (150, 5)\n",
      "\n",
      "Описательная статистика:\n",
      "       sepal_length_cm  sepal_width_cm  petal_length_cm  petal_width_cm\n",
      "count       150.000000      150.000000       150.000000      150.000000\n",
      "mean          5.843333        3.054000         3.758667        1.198667\n",
      "std           0.828066        0.433594         1.764420        0.763161\n",
      "min           4.300000        2.000000         1.000000        0.100000\n",
      "25%           5.100000        2.800000         1.600000        0.300000\n",
      "50%           5.800000        3.000000         4.350000        1.300000\n",
      "75%           6.400000        3.300000         5.100000        1.800000\n",
      "max           7.900000        4.400000         6.900000        2.500000\n",
      "\n",
      "Строки с 3 по 7 для 'sepal_length_cm':\n",
      "3    4.6\n",
      "4    5.0\n",
      "5    5.4\n",
      "6    4.6\n",
      "7    5.0\n",
      "Name: sepal_length_cm, dtype: float64\n",
      "\n",
      "Строки с 3 по 7 (используем iloc):\n",
      "   sepal_length_cm  sepal_width_cm  petal_length_cm  petal_width_cm species\n",
      "3              4.6             3.1              1.5             0.2  setosa\n",
      "4              5.0             3.6              1.4             0.2  setosa\n",
      "5              5.4             3.9              1.7             0.4  setosa\n",
      "6              4.6             3.4              1.4             0.3  setosa\n",
      "7              5.0             3.4              1.5             0.2  setosa\n",
      "\n",
      "Строки, где 'sepal_length_cm' больше 5.5:\n",
      "     sepal_length_cm  sepal_width_cm  petal_length_cm  petal_width_cm  \\\n",
      "14               5.8             4.0              1.2             0.2   \n",
      "15               5.7             4.4              1.5             0.4   \n",
      "18               5.7             3.8              1.7             0.3   \n",
      "50               7.0             3.2              4.7             1.4   \n",
      "51               6.4             3.2              4.5             1.5   \n",
      "..               ...             ...              ...             ...   \n",
      "145              6.7             3.0              5.2             2.3   \n",
      "146              6.3             2.5              5.0             1.9   \n",
      "147              6.5             3.0              5.2             2.0   \n",
      "148              6.2             3.4              5.4             2.3   \n",
      "149              5.9             3.0              5.1             1.8   \n",
      "\n",
      "        species  \n",
      "14       setosa  \n",
      "15       setosa  \n",
      "18       setosa  \n",
      "50   versicolor  \n",
      "51   versicolor  \n",
      "..          ...  \n",
      "145   virginica  \n",
      "146   virginica  \n",
      "147   virginica  \n",
      "148   virginica  \n",
      "149   virginica  \n",
      "\n",
      "[91 rows x 5 columns]\n"
     ]
    }
   ],
   "source": [
    "# 2.3.3\n",
    "\n",
    "import pandas as pd\n",
    "\n",
    "url = 'https://raw.githubusercontent.com/akmand/datasets/master/iris.csv'\n",
    "df = pd.read_csv(url)\n",
    "\n",
    "print(\"Первые 5 строк:\")\n",
    "print(df.head())\n",
    "\n",
    "print(\"\\nПоследние 5 строк:\")\n",
    "print(df.tail())\n",
    "\n",
    "print(\"\\nФорма DataFrame (строки, столбцы):\", df.shape)\n",
    "\n",
    "print(\"\\nОписательная статистика:\")\n",
    "print(df.describe())\n",
    "\n",
    "print(\"\\nСтроки с 3 по 7 для 'sepal_length_cm':\")\n",
    "print(df.loc[3:7, 'sepal_length_cm'])\n",
    "\n",
    "print(\"\\nСтроки с 3 по 7 (используем iloc):\")\n",
    "print(df.iloc[3:8])\n",
    "\n",
    "# Фильтрация на основе условия\n",
    "filtered_df = df[df['sepal_length_cm'] > 5.5]\n",
    "\n",
    "print(\"\\nСтроки, где 'sepal_length_cm' больше 5.5:\")\n",
    "print(filtered_df)\n"
   ]
  },
  {
   "cell_type": "code",
   "execution_count": 10,
   "metadata": {},
   "outputs": [
    {
     "name": "stdout",
     "output_type": "stream",
     "text": [
      "   sepal_length_cm  sepal_length_cm_normalized  sepal_width_cm  \\\n",
      "0              5.1                    0.222222             3.5   \n",
      "1              4.9                    0.166667             3.0   \n",
      "2              4.7                    0.111111             3.2   \n",
      "3              4.6                    0.083333             3.1   \n",
      "4              5.0                    0.194444             3.6   \n",
      "\n",
      "   sepal_width_cm_scaled  \n",
      "0               1.032057  \n",
      "1              -0.124958  \n",
      "2               0.337848  \n",
      "3               0.106445  \n",
      "4               1.263460  \n"
     ]
    }
   ],
   "source": [
    "# 3.3.2\n",
    "\n",
    "import pandas as pd\n",
    "from sklearn.preprocessing import MinMaxScaler, StandardScaler\n",
    "\n",
    "url = 'https://raw.githubusercontent.com/akmand/datasets/master/iris.csv'\n",
    "df = pd.read_csv(url)\n",
    "\n",
    "min_max_scaler = MinMaxScaler()\n",
    "df['sepal_length_cm_normalized'] = min_max_scaler.fit_transform(df[['sepal_length_cm']])\n",
    "\n",
    "z_scaler = StandardScaler()\n",
    "df['sepal_width_cm_scaled'] = z_scaler.fit_transform(df[['sepal_width_cm']])\n",
    "\n",
    "print(df[['sepal_length_cm', 'sepal_length_cm_normalized', 'sepal_width_cm', 'sepal_width_cm_scaled']].head())\n"
   ]
  }
 ],
 "metadata": {
  "kernelspec": {
   "display_name": "Python 3",
   "language": "python",
   "name": "python3"
  },
  "language_info": {
   "codemirror_mode": {
    "name": "ipython",
    "version": 3
   },
   "file_extension": ".py",
   "mimetype": "text/x-python",
   "name": "python",
   "nbconvert_exporter": "python",
   "pygments_lexer": "ipython3",
   "version": "3.12.0"
  }
 },
 "nbformat": 4,
 "nbformat_minor": 2
}
